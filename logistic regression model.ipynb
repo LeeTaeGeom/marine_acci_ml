{
 "cells": [
  {
   "cell_type": "code",
   "execution_count": 1,
   "metadata": {},
   "outputs": [],
   "source": [
    "import os"
   ]
  },
  {
   "cell_type": "code",
   "execution_count": 2,
   "metadata": {},
   "outputs": [],
   "source": [
    "from tensorflow.keras.models import Sequential \n",
    "from tensorflow.keras.layers import Dense\n",
    "from tensorflow.keras.optimizers import Adam, SGD \n",
    "import numpy as np\n",
    "import pandas as pd\n",
    "import matplotlib.pyplot as plt\n",
    "import seaborn as sns\n",
    "from sklearn.model_selection import train_test_split \n",
    "from sklearn.preprocessing import StandardScaler\n"
   ]
  },
  {
   "cell_type": "code",
   "execution_count": 3,
   "metadata": {},
   "outputs": [],
   "source": [
    "\n",
    "df = pd.read_csv('last_clean.csv',encoding=\"cp949\")"
   ]
  },
  {
   "cell_type": "code",
   "execution_count": 4,
   "metadata": {},
   "outputs": [
    {
     "data": {
      "text/html": [
       "<div>\n",
       "<style scoped>\n",
       "    .dataframe tbody tr th:only-of-type {\n",
       "        vertical-align: middle;\n",
       "    }\n",
       "\n",
       "    .dataframe tbody tr th {\n",
       "        vertical-align: top;\n",
       "    }\n",
       "\n",
       "    .dataframe thead th {\n",
       "        text-align: right;\n",
       "    }\n",
       "</style>\n",
       "<table border=\"1\" class=\"dataframe\">\n",
       "  <thead>\n",
       "    <tr style=\"text-align: right;\">\n",
       "      <th></th>\n",
       "      <th>사고</th>\n",
       "    </tr>\n",
       "  </thead>\n",
       "  <tbody>\n",
       "    <tr>\n",
       "      <th>0</th>\n",
       "      <td>1</td>\n",
       "    </tr>\n",
       "    <tr>\n",
       "      <th>1</th>\n",
       "      <td>1</td>\n",
       "    </tr>\n",
       "    <tr>\n",
       "      <th>2</th>\n",
       "      <td>1</td>\n",
       "    </tr>\n",
       "    <tr>\n",
       "      <th>3</th>\n",
       "      <td>0</td>\n",
       "    </tr>\n",
       "    <tr>\n",
       "      <th>4</th>\n",
       "      <td>1</td>\n",
       "    </tr>\n",
       "    <tr>\n",
       "      <th>...</th>\n",
       "      <td>...</td>\n",
       "    </tr>\n",
       "    <tr>\n",
       "      <th>28935</th>\n",
       "      <td>0</td>\n",
       "    </tr>\n",
       "    <tr>\n",
       "      <th>28936</th>\n",
       "      <td>0</td>\n",
       "    </tr>\n",
       "    <tr>\n",
       "      <th>28937</th>\n",
       "      <td>1</td>\n",
       "    </tr>\n",
       "    <tr>\n",
       "      <th>28938</th>\n",
       "      <td>1</td>\n",
       "    </tr>\n",
       "    <tr>\n",
       "      <th>28939</th>\n",
       "      <td>0</td>\n",
       "    </tr>\n",
       "  </tbody>\n",
       "</table>\n",
       "<p>28940 rows × 1 columns</p>\n",
       "</div>"
      ],
      "text/plain": [
       "       사고\n",
       "0       1\n",
       "1       1\n",
       "2       1\n",
       "3       0\n",
       "4       1\n",
       "...    ..\n",
       "28935   0\n",
       "28936   0\n",
       "28937   1\n",
       "28938   1\n",
       "28939   0\n",
       "\n",
       "[28940 rows x 1 columns]"
      ]
     },
     "execution_count": 4,
     "metadata": {},
     "output_type": "execute_result"
    }
   ],
   "source": [
    "df[['사고']]"
   ]
  },
  {
   "cell_type": "code",
   "execution_count": 5,
   "metadata": {},
   "outputs": [
    {
     "data": {
      "text/plain": [
       "28940"
      ]
     },
     "execution_count": 5,
     "metadata": {},
     "output_type": "execute_result"
    }
   ],
   "source": [
    "y_data = df[['사고']]\n",
    "len(y_data)"
   ]
  },
  {
   "cell_type": "code",
   "execution_count": 6,
   "metadata": {},
   "outputs": [
    {
     "data": {
      "text/plain": [
       "28940"
      ]
     },
     "execution_count": 6,
     "metadata": {},
     "output_type": "execute_result"
    }
   ],
   "source": [
    "x_data = df.loc[:, ['유의파고','파향','최대파주기','풍속','풍향']]\n",
    "x_data = x_data.astype(np.float32)\n",
    "len(x_data)"
   ]
  },
  {
   "cell_type": "code",
   "execution_count": 7,
   "metadata": {},
   "outputs": [],
   "source": [
    "from sklearn.preprocessing import OneHotEncoder"
   ]
  },
  {
   "cell_type": "code",
   "execution_count": 8,
   "metadata": {},
   "outputs": [],
   "source": [
    "scaler = StandardScaler()\n",
    "x_data_scaled = scaler.fit_transform(x_data)\n"
   ]
  },
  {
   "cell_type": "code",
   "execution_count": 9,
   "metadata": {},
   "outputs": [],
   "source": [
    "# encoder = OneHotEncoder()\n",
    "# y_data_encoded = encoder.fit_transform(y_data).toarray()"
   ]
  },
  {
   "cell_type": "code",
   "execution_count": 10,
   "metadata": {},
   "outputs": [],
   "source": [
    "x_train, x_test, y_train, y_test = train_test_split(x_data_scaled, y_data, test_size=0.2, random_state=2021)\n",
    "\n"
   ]
  },
  {
   "cell_type": "code",
   "execution_count": 11,
   "metadata": {},
   "outputs": [],
   "source": [
    "x_train, x_val, y_train, y_val = train_test_split(x_train, y_train, test_size=0.2, random_state=2021)\n",
    "\n"
   ]
  },
  {
   "cell_type": "code",
   "execution_count": 12,
   "metadata": {},
   "outputs": [
    {
     "data": {
      "text/plain": [
       "numpy.ndarray"
      ]
     },
     "execution_count": 12,
     "metadata": {},
     "output_type": "execute_result"
    }
   ],
   "source": [
    "type(x_train)"
   ]
  },
  {
   "cell_type": "code",
   "execution_count": 13,
   "metadata": {},
   "outputs": [
    {
     "data": {
      "text/plain": [
       "pandas.core.frame.DataFrame"
      ]
     },
     "execution_count": 13,
     "metadata": {},
     "output_type": "execute_result"
    }
   ],
   "source": [
    "type(y_train)"
   ]
  },
  {
   "cell_type": "code",
   "execution_count": 14,
   "metadata": {},
   "outputs": [],
   "source": [
    "# y_train=y_train.astype(int)"
   ]
  },
  {
   "cell_type": "code",
   "execution_count": 15,
   "metadata": {},
   "outputs": [
    {
     "data": {
      "text/plain": [
       "numpy.float32"
      ]
     },
     "execution_count": 15,
     "metadata": {},
     "output_type": "execute_result"
    }
   ],
   "source": [
    "type(x_train[0][0])"
   ]
  },
  {
   "cell_type": "code",
   "execution_count": 16,
   "metadata": {},
   "outputs": [],
   "source": [
    "import numpy\n",
    "y_train=y_train.astype(numpy.int64)"
   ]
  },
  {
   "cell_type": "code",
   "execution_count": 17,
   "metadata": {},
   "outputs": [
    {
     "data": {
      "text/html": [
       "<div>\n",
       "<style scoped>\n",
       "    .dataframe tbody tr th:only-of-type {\n",
       "        vertical-align: middle;\n",
       "    }\n",
       "\n",
       "    .dataframe tbody tr th {\n",
       "        vertical-align: top;\n",
       "    }\n",
       "\n",
       "    .dataframe thead th {\n",
       "        text-align: right;\n",
       "    }\n",
       "</style>\n",
       "<table border=\"1\" class=\"dataframe\">\n",
       "  <thead>\n",
       "    <tr style=\"text-align: right;\">\n",
       "      <th></th>\n",
       "      <th>사고</th>\n",
       "    </tr>\n",
       "  </thead>\n",
       "  <tbody>\n",
       "    <tr>\n",
       "      <th>9520</th>\n",
       "      <td>1</td>\n",
       "    </tr>\n",
       "    <tr>\n",
       "      <th>11674</th>\n",
       "      <td>1</td>\n",
       "    </tr>\n",
       "    <tr>\n",
       "      <th>8237</th>\n",
       "      <td>0</td>\n",
       "    </tr>\n",
       "    <tr>\n",
       "      <th>1559</th>\n",
       "      <td>0</td>\n",
       "    </tr>\n",
       "    <tr>\n",
       "      <th>660</th>\n",
       "      <td>1</td>\n",
       "    </tr>\n",
       "    <tr>\n",
       "      <th>...</th>\n",
       "      <td>...</td>\n",
       "    </tr>\n",
       "    <tr>\n",
       "      <th>22946</th>\n",
       "      <td>0</td>\n",
       "    </tr>\n",
       "    <tr>\n",
       "      <th>27341</th>\n",
       "      <td>0</td>\n",
       "    </tr>\n",
       "    <tr>\n",
       "      <th>4252</th>\n",
       "      <td>0</td>\n",
       "    </tr>\n",
       "    <tr>\n",
       "      <th>373</th>\n",
       "      <td>0</td>\n",
       "    </tr>\n",
       "    <tr>\n",
       "      <th>12681</th>\n",
       "      <td>1</td>\n",
       "    </tr>\n",
       "  </tbody>\n",
       "</table>\n",
       "<p>18521 rows × 1 columns</p>\n",
       "</div>"
      ],
      "text/plain": [
       "       사고\n",
       "9520    1\n",
       "11674   1\n",
       "8237    0\n",
       "1559    0\n",
       "660     1\n",
       "...    ..\n",
       "22946   0\n",
       "27341   0\n",
       "4252    0\n",
       "373     0\n",
       "12681   1\n",
       "\n",
       "[18521 rows x 1 columns]"
      ]
     },
     "execution_count": 17,
     "metadata": {},
     "output_type": "execute_result"
    }
   ],
   "source": [
    "y_train"
   ]
  },
  {
   "cell_type": "code",
   "execution_count": 18,
   "metadata": {},
   "outputs": [],
   "source": [
    "from tensorflow.keras import optimizers\n",
    "model = Sequential()\n",
    "\n",
    "model.add(Dense(1, input_dim=5, activation='sigmoid'))\n",
    "\n",
    "model.compile(loss='binary_crossentropy', optimizer='adam', metrics=['acc'])"
   ]
  },
  {
   "cell_type": "code",
   "execution_count": 19,
   "metadata": {},
   "outputs": [
    {
     "name": "stdout",
     "output_type": "stream",
     "text": [
      "Epoch 1/30\n",
      "2207/2316 [===========================>..] - ETA: 0s - loss: 0.6777 - acc: 0.6117\n",
      "Epoch 00001: saving model to best_model\n",
      "WARNING:tensorflow:From /Users/leetaegeom/opt/anaconda3/lib/python3.8/site-packages/tensorflow/python/training/tracking/tracking.py:111: Model.state_updates (from tensorflow.python.keras.engine.training) is deprecated and will be removed in a future version.\n",
      "Instructions for updating:\n",
      "This property should not be used in TensorFlow 2.0, as updates are applied automatically.\n",
      "WARNING:tensorflow:From /Users/leetaegeom/opt/anaconda3/lib/python3.8/site-packages/tensorflow/python/training/tracking/tracking.py:111: Layer.updates (from tensorflow.python.keras.engine.base_layer) is deprecated and will be removed in a future version.\n",
      "Instructions for updating:\n",
      "This property should not be used in TensorFlow 2.0, as updates are applied automatically.\n",
      "INFO:tensorflow:Assets written to: best_model/assets\n",
      "2316/2316 [==============================] - 2s 764us/step - loss: 0.6747 - acc: 0.6156 - val_loss: 0.6358 - val_acc: 0.6634\n",
      "Epoch 2/30\n",
      "2229/2316 [===========================>..] - ETA: 0s - loss: 0.6101 - acc: 0.6845\n",
      "Epoch 00002: saving model to best_model\n",
      "INFO:tensorflow:Assets written to: best_model/assets\n",
      "2316/2316 [==============================] - 2s 712us/step - loss: 0.6096 - acc: 0.6848 - val_loss: 0.6150 - val_acc: 0.6897\n",
      "Epoch 3/30\n",
      "2284/2316 [============================>.] - ETA: 0s - loss: 0.5956 - acc: 0.7017\n",
      "Epoch 00003: saving model to best_model\n",
      "INFO:tensorflow:Assets written to: best_model/assets\n",
      "2316/2316 [==============================] - 2s 709us/step - loss: 0.5957 - acc: 0.7016 - val_loss: 0.6062 - val_acc: 0.6990\n",
      "Epoch 4/30\n",
      "2244/2316 [============================>.] - ETA: 0s - loss: 0.5905 - acc: 0.7083\n",
      "Epoch 00004: saving model to best_model\n",
      "INFO:tensorflow:Assets written to: best_model/assets\n",
      "2316/2316 [==============================] - 2s 690us/step - loss: 0.5898 - acc: 0.7085 - val_loss: 0.6037 - val_acc: 0.7050\n",
      "Epoch 5/30\n",
      "2313/2316 [============================>.] - ETA: 0s - loss: 0.5873 - acc: 0.7137\n",
      "Epoch 00005: saving model to best_model\n",
      "INFO:tensorflow:Assets written to: best_model/assets\n",
      "2316/2316 [==============================] - 2s 697us/step - loss: 0.5875 - acc: 0.7136 - val_loss: 0.6013 - val_acc: 0.7046\n",
      "Epoch 6/30\n",
      "2221/2316 [===========================>..] - ETA: 0s - loss: 0.5870 - acc: 0.7126\n",
      "Epoch 00006: saving model to best_model\n",
      "INFO:tensorflow:Assets written to: best_model/assets\n",
      "2316/2316 [==============================] - 2s 694us/step - loss: 0.5863 - acc: 0.7130 - val_loss: 0.6006 - val_acc: 0.7063\n",
      "Epoch 7/30\n",
      "2304/2316 [============================>.] - ETA: 0s - loss: 0.5861 - acc: 0.7130\n",
      "Epoch 00007: saving model to best_model\n",
      "INFO:tensorflow:Assets written to: best_model/assets\n",
      "2316/2316 [==============================] - 2s 702us/step - loss: 0.5859 - acc: 0.7130 - val_loss: 0.6004 - val_acc: 0.7057\n",
      "Epoch 8/30\n",
      "2204/2316 [===========================>..] - ETA: 0s - loss: 0.5852 - acc: 0.7142\n",
      "Epoch 00008: saving model to best_model\n",
      "INFO:tensorflow:Assets written to: best_model/assets\n",
      "2316/2316 [==============================] - 2s 656us/step - loss: 0.5858 - acc: 0.7132 - val_loss: 0.6004 - val_acc: 0.7083\n",
      "Epoch 9/30\n",
      "2238/2316 [===========================>..] - ETA: 0s - loss: 0.5845 - acc: 0.7126\n",
      "Epoch 00009: saving model to best_model\n",
      "INFO:tensorflow:Assets written to: best_model/assets\n",
      "2316/2316 [==============================] - 1s 638us/step - loss: 0.5856 - acc: 0.7124 - val_loss: 0.6004 - val_acc: 0.7076\n",
      "Epoch 10/30\n",
      "2254/2316 [============================>.] - ETA: 0s - loss: 0.5855 - acc: 0.7132\n",
      "Epoch 00010: saving model to best_model\n",
      "INFO:tensorflow:Assets written to: best_model/assets\n",
      "2316/2316 [==============================] - 2s 737us/step - loss: 0.5856 - acc: 0.7131 - val_loss: 0.6003 - val_acc: 0.7078\n",
      "Epoch 11/30\n",
      "2265/2316 [============================>.] - ETA: 0s - loss: 0.5854 - acc: 0.7129\n",
      "Epoch 00011: saving model to best_model\n",
      "INFO:tensorflow:Assets written to: best_model/assets\n",
      "2316/2316 [==============================] - 2s 705us/step - loss: 0.5853 - acc: 0.7131 - val_loss: 0.5998 - val_acc: 0.7068\n",
      "Epoch 12/30\n",
      "2307/2316 [============================>.] - ETA: 0s - loss: 0.5854 - acc: 0.7117\n",
      "Epoch 00012: saving model to best_model\n",
      "INFO:tensorflow:Assets written to: best_model/assets\n",
      "2316/2316 [==============================] - 2s 698us/step - loss: 0.5855 - acc: 0.7114 - val_loss: 0.6010 - val_acc: 0.7070\n",
      "Epoch 13/30\n",
      "2280/2316 [============================>.] - ETA: 0s - loss: 0.5855 - acc: 0.7121\n",
      "Epoch 00013: saving model to best_model\n",
      "INFO:tensorflow:Assets written to: best_model/assets\n",
      "2316/2316 [==============================] - 2s 649us/step - loss: 0.5855 - acc: 0.7122 - val_loss: 0.6000 - val_acc: 0.7061\n",
      "Epoch 14/30\n",
      "2225/2316 [===========================>..] - ETA: 0s - loss: 0.5864 - acc: 0.7120\n",
      "Epoch 00014: saving model to best_model\n",
      "INFO:tensorflow:Assets written to: best_model/assets\n",
      "2316/2316 [==============================] - 2s 683us/step - loss: 0.5855 - acc: 0.7125 - val_loss: 0.6002 - val_acc: 0.7070\n",
      "Epoch 15/30\n",
      "2262/2316 [============================>.] - ETA: 0s - loss: 0.5858 - acc: 0.7109\n",
      "Epoch 00015: saving model to best_model\n",
      "INFO:tensorflow:Assets written to: best_model/assets\n",
      "2316/2316 [==============================] - 2s 720us/step - loss: 0.5856 - acc: 0.7119 - val_loss: 0.6008 - val_acc: 0.7078\n",
      "Epoch 16/30\n",
      "2272/2316 [============================>.] - ETA: 0s - loss: 0.5848 - acc: 0.7136\n",
      "Epoch 00016: saving model to best_model\n",
      "INFO:tensorflow:Assets written to: best_model/assets\n",
      "2316/2316 [==============================] - 2s 685us/step - loss: 0.5855 - acc: 0.7128 - val_loss: 0.6006 - val_acc: 0.7070\n",
      "Epoch 17/30\n",
      "2233/2316 [===========================>..] - ETA: 0s - loss: 0.5853 - acc: 0.7120\n",
      "Epoch 00017: saving model to best_model\n",
      "INFO:tensorflow:Assets written to: best_model/assets\n",
      "2316/2316 [==============================] - 2s 723us/step - loss: 0.5855 - acc: 0.7124 - val_loss: 0.6006 - val_acc: 0.7074\n",
      "Epoch 18/30\n",
      "2252/2316 [============================>.] - ETA: 0s - loss: 0.5862 - acc: 0.7125\n",
      "Epoch 00018: saving model to best_model\n",
      "INFO:tensorflow:Assets written to: best_model/assets\n",
      "2316/2316 [==============================] - 2s 825us/step - loss: 0.5854 - acc: 0.7133 - val_loss: 0.5997 - val_acc: 0.7074\n",
      "Epoch 19/30\n",
      "2292/2316 [============================>.] - ETA: 0s - loss: 0.5857 - acc: 0.7128\n",
      "Epoch 00019: saving model to best_model\n",
      "INFO:tensorflow:Assets written to: best_model/assets\n",
      "2316/2316 [==============================] - 2s 835us/step - loss: 0.5856 - acc: 0.7128 - val_loss: 0.6002 - val_acc: 0.7085\n",
      "Epoch 20/30\n",
      "2281/2316 [============================>.] - ETA: 0s - loss: 0.5853 - acc: 0.7128\n",
      "Epoch 00020: saving model to best_model\n",
      "INFO:tensorflow:Assets written to: best_model/assets\n",
      "2316/2316 [==============================] - 2s 867us/step - loss: 0.5855 - acc: 0.7129 - val_loss: 0.6004 - val_acc: 0.7078\n",
      "Epoch 21/30\n",
      "2237/2316 [===========================>..] - ETA: 0s - loss: 0.5855 - acc: 0.7127\n",
      "Epoch 00021: saving model to best_model\n",
      "INFO:tensorflow:Assets written to: best_model/assets\n",
      "2316/2316 [==============================] - 2s 848us/step - loss: 0.5855 - acc: 0.7125 - val_loss: 0.6009 - val_acc: 0.7081\n",
      "Epoch 22/30\n",
      "2241/2316 [============================>.] - ETA: 0s - loss: 0.5855 - acc: 0.7132\n",
      "Epoch 00022: saving model to best_model\n",
      "INFO:tensorflow:Assets written to: best_model/assets\n",
      "2316/2316 [==============================] - 2s 730us/step - loss: 0.5856 - acc: 0.7132 - val_loss: 0.6003 - val_acc: 0.7081\n",
      "Epoch 23/30\n",
      "2236/2316 [===========================>..] - ETA: 0s - loss: 0.5864 - acc: 0.7119\n",
      "Epoch 00023: saving model to best_model\n",
      "INFO:tensorflow:Assets written to: best_model/assets\n",
      "2316/2316 [==============================] - 2s 693us/step - loss: 0.5855 - acc: 0.7125 - val_loss: 0.6000 - val_acc: 0.7091\n",
      "Epoch 24/30\n",
      "2282/2316 [============================>.] - ETA: 0s - loss: 0.5856 - acc: 0.7126\n",
      "Epoch 00024: saving model to best_model\n",
      "INFO:tensorflow:Assets written to: best_model/assets\n",
      "2316/2316 [==============================] - 2s 685us/step - loss: 0.5855 - acc: 0.7128 - val_loss: 0.6001 - val_acc: 0.7076\n"
     ]
    },
    {
     "name": "stdout",
     "output_type": "stream",
     "text": [
      "Epoch 25/30\n",
      "2210/2316 [===========================>..] - ETA: 0s - loss: 0.5861 - acc: 0.7124\n",
      "Epoch 00025: saving model to best_model\n",
      "INFO:tensorflow:Assets written to: best_model/assets\n",
      "2316/2316 [==============================] - 1s 634us/step - loss: 0.5854 - acc: 0.7129 - val_loss: 0.6010 - val_acc: 0.7078\n",
      "Epoch 00025: early stopping\n"
     ]
    }
   ],
   "source": [
    "from keras.callbacks import EarlyStopping, ModelCheckpoint\n",
    "\n",
    "early_stop=EarlyStopping(monitor='val_loss',patience=7,verbose=1)\n",
    "best=ModelCheckpoint('best_model',monitor='val_loss',mode='min',verbose=1)\n",
    "\n",
    "history=model.fit(\n",
    "    x_train,\n",
    "    y_train,\n",
    "    epochs=30,\n",
    "    batch_size = 8,\n",
    "    verbose=1,\n",
    "    validation_data=(x_val, y_val), \n",
    "    callbacks=[early_stop,best]\n",
    "#     callbacks=[best]\n",
    "    \n",
    ")"
   ]
  },
  {
   "cell_type": "code",
   "execution_count": 20,
   "metadata": {},
   "outputs": [
    {
     "name": "stdout",
     "output_type": "stream",
     "text": [
      "Model: \"sequential\"\n",
      "_________________________________________________________________\n",
      "Layer (type)                 Output Shape              Param #   \n",
      "=================================================================\n",
      "dense (Dense)                (None, 1)                 6         \n",
      "=================================================================\n",
      "Total params: 6\n",
      "Trainable params: 6\n",
      "Non-trainable params: 0\n",
      "_________________________________________________________________\n"
     ]
    }
   ],
   "source": [
    "model.summary()"
   ]
  },
  {
   "cell_type": "code",
   "execution_count": 21,
   "metadata": {},
   "outputs": [
    {
     "name": "stdout",
     "output_type": "stream",
     "text": [
      "181/181 [==============================] - 0s 395us/step - loss: 0.6021 - acc: 0.7009\n",
      "\n",
      "테스트 정확도 : 0.7009\n"
     ]
    }
   ],
   "source": [
    "from tensorflow.keras.models import load_model\n",
    "loaded_model = load_model('best_model')\n",
    "print('\\n테스트 정확도 : %.4f'%(loaded_model.evaluate(x_test,y_test)[1]))"
   ]
  },
  {
   "cell_type": "code",
   "execution_count": 22,
   "metadata": {},
   "outputs": [
    {
     "data": {
      "image/png": "[encoded data removed]",
      "text/plain": [
       "<Figure size 432x288 with 1 Axes>"
      ]
     },
     "metadata": {
      "needs_background": "light"
     },
     "output_type": "display_data"
    }
   ],
   "source": [
    "plt.plot(history.history['loss'])\n",
    "plt.plot(history.history['acc'])\n",
    "plt.plot(history.history['val_loss'])\n",
    "plt.plot(history.history['val_acc'])\n",
    "plt.title('Model')\n",
    "plt.xlabel('Epoch')\n",
    "\n",
    "\n",
    "plt.show()"
   ]
  },
  {
   "cell_type": "code",
   "execution_count": null,
   "metadata": {},
   "outputs": [],
   "source": []
  },
  {
   "cell_type": "code",
   "execution_count": null,
   "metadata": {},
   "outputs": [],
   "source": []
  }
 ],
 "metadata": {
  "kernelspec": {
   "display_name": "tf",
   "language": "python",
   "name": "tf"
  },
  "language_info": {
   "codemirror_mode": {
    "name": "ipython",
    "version": 3
   },
   "file_extension": ".py",
   "mimetype": "text/x-python",
   "name": "python",
   "nbconvert_exporter": "python",
   "pygments_lexer": "ipython3",
   "version": "3.8.5"
  }
 },
 "nbformat": 4,
 "nbformat_minor": 4
}
